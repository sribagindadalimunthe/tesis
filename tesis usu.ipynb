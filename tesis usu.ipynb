{
  "nbformat": 4,
  "nbformat_minor": 0,
  "metadata": {
    "colab": {
      "name": "air_quality_prediction(before_run).ipynb.txt",
      "provenance": [],
      "collapsed_sections": [],
      "include_colab_link": true
    },
    "kernelspec": {
      "name": "python3",
      "display_name": "Python 3"
    }
  },
  "cells": [
    {
      "cell_type": "markdown",
      "metadata": {
        "id": "view-in-github",
        "colab_type": "text"
      },
      "source": [
        "<a href=\"https://colab.research.google.com/github/sribagindadalimunthe/tesis/blob/main/tesis%20usu.ipynb\" target=\"_parent\"><img src=\"https://colab.research.google.com/assets/colab-badge.svg\" alt=\"Open In Colab\"/></a>"
      ]
    },
    {
      "cell_type": "code",
      "metadata": {
        "id": "kJ7KyWQt-m2S",
        "colab": {
          "base_uri": "https://localhost:8080/",
          "height": 129
        },
        "outputId": "78399253-9322-4a2e-83fd-48654949eb15"
      },
      "source": [
        "# Source code: https://machinelearningmastery.com/machine-learning-in-python-step-by-step/\n",
        "# Additional list of ML methods:\n",
        "## https://www.analyticsvidhya.com/blog/2017/09/common-machine-learning-algorithms/\n",
        "## https://scikit-learn.org/stable/auto_examples/classification/plot_classifier_comparison.html\n",
        "\n",
        "\n",
        "# Compare algorithms\n",
        "from pandas import read_csv\n",
        "from matplotlib import pyplot\n",
        "from sklearn.model_selection import train_test_split\n",
        "from sklearn.model_selection import cross_val_score\n",
        "from sklearn.model_selection import StratifiedKFold\n",
        "from sklearn.tree import DecisionTreeClassifier\n",
        "from sklearn.svm import SVC\n",
        "from sklearn.metrics import classification_report\n",
        "from sklearn.metrics import confusion_matrix\n",
        "from sklearn.metrics import accuracy_score\n",
        "\n",
        "# Load dataset\n",
        "file = \"https://github.com/sribagindadalimunthe/tesis/blob/main/Data%20dummy%20tesis.csv\"\n",
        "names = ['Y, 'X1', 'X2', 'X3']\n",
        "\n",
        "dataset = read_csv(file, names=names)\n",
        "\n",
        "# Split-out validation dataset\n",
        "array = dataset.values\n",
        "X = array[:,0:3]\n",
        "y = array[:,3]\n",
        "X_train, X_validation, Y_train, Y_validation = train_test_split(X, y, test_size=0.20, random_state=1, shuffle=True)\n",
        "\n",
        "# Spot Check Algorithms\n",
        "models = []\n",
        "models.append(('CART', DecisionTreeClassifier()))\n",
        "models.append(('SVM', SVC(gamma='auto')))\n",
        "# evaluate each model in turn\n",
        "results = []\n",
        "names = []\n",
        "for name, model in models:  \n",
        "  kfold = StratifiedKFold(n_splits=10, random_state=1, shuffle=True)\n",
        "  cv_results = cross_val_score(model, X_train, Y_train, cv=kfold, scoring='accuracy')\n",
        "  optimized_parameters = model.get_params(deep=True)\n",
        "  results.append(cv_results)\n",
        "  names.append(name)\n",
        "  print('%s: %f (%f)' % (name, cv_results.mean(), cv_results.std()))\n",
        "  print('optimized_parameters',optimized_parameters)\n",
        "  print()\n",
        "# Compare Algorithms\n",
        "pyplot.boxplot(results, labels=names)\n",
        "pyplot.show()\n",
        "\n",
        "\n",
        "print()\n",
        "print('Prediction step')\n",
        "# Make predictions on validation dataset\n",
        "for name, model in models:\n",
        "\tprint()\n",
        "\tprint('name = ',name)\n",
        "\tmodel.fit(X_train, Y_train)\n",
        "\t# optimized_parameters = model.get_params(deep=True)\n",
        "\tpredictions = model.predict(X_validation)\n",
        "\t# Evaluate predictions\n",
        "\tprint(accuracy_score(Y_validation, predictions))\n",
        "\tprint(confusion_matrix(Y_validation, predictions))\n",
        "\tprint(classification_report(Y_validation, predictions))\n",
        "\t# print('optimized_parameters',optimized_parameters)"
      ],
      "execution_count": 1,
      "outputs": [
        {
          "output_type": "error",
          "ename": "SyntaxError",
          "evalue": "ignored",
          "traceback": [
            "\u001b[0;36m  File \u001b[0;32m\"<ipython-input-1-3632086fef0b>\"\u001b[0;36m, line \u001b[0;32m21\u001b[0m\n\u001b[0;31m    names = ['Y, 'X1', 'X2', 'X3']\u001b[0m\n\u001b[0m                   ^\u001b[0m\n\u001b[0;31mSyntaxError\u001b[0m\u001b[0;31m:\u001b[0m invalid syntax\n"
          ]
        }
      ]
    }
  ]
}