{
  "nbformat": 4,
  "nbformat_minor": 0,
  "metadata": {
    "colab": {
      "name": "Untitled0.ipynb",
      "provenance": [],
      "collapsed_sections": [],
      "authorship_tag": "ABX9TyMZbB7CtNZ6xg2TOC6L/tZ3",
      "include_colab_link": true
    },
    "kernelspec": {
      "name": "python3",
      "display_name": "Python 3"
    },
    "language_info": {
      "name": "python"
    }
  },
  "cells": [
    {
      "cell_type": "markdown",
      "metadata": {
        "id": "view-in-github",
        "colab_type": "text"
      },
      "source": [
        "<a href=\"https://colab.research.google.com/github/sribagindadalimunthe/tesis/blob/main/Untitled0.ipynb\" target=\"_parent\"><img src=\"https://colab.research.google.com/assets/colab-badge.svg\" alt=\"Open In Colab\"/></a>"
      ]
    },
    {
      "cell_type": "code",
      "metadata": {
        "id": "u4APTi3yWoLu",
        "colab": {
          "base_uri": "https://localhost:8080/"
        },
        "outputId": "bc248960-2c0b-404e-a8fe-f4c31ee760f8"
      },
      "source": [
        "#mengimpor library yang diperlukan\n",
        "from pandas import read_csv\n",
        "from matplotlib import pyplot\n",
        "from sklearn.linear_model import SGDRegressor\n",
        "from sklearn.model_selection import train_test_split\n",
        "\n",
        "\n",
        "\n",
        "#mengimpor dataset\n",
        "file = \"https://raw.githubusercontent.com/sribagindadalimunthe/tesis/main/data%20dummy%20tesis%209\"\n",
        "names = ['Y', 'x1', 'x2', 'x3']\n",
        "\n",
        "dataset = read_csv(file, names=names)\n",
        "\n",
        "\n",
        "\n",
        "# Membagi data menjadi the Training set and Test set\n",
        "array = dataset.values\n",
        "X = array[:,0:3]\n",
        "y = array[:,3]\n",
        "X_train, X_test, y_train, y_test = train_test_split(X, y, test_size = 0.2, random_state = 0)\n",
        "\n",
        "# Membuat model Multiple Linear Regression dari Training set\n",
        "regressor = SGDRegressor()\n",
        "regressor.fit(X_train, y_train)\n",
        " \n",
        "#menentukan nilai koefisien\n",
        "\n",
        "\n",
        "\n",
        "# Akurasi\n",
        "regressor.score (X_test,y_test)\n",
        "\n",
        "\n"
      ],
      "execution_count": 6,
      "outputs": [
        {
          "output_type": "execute_result",
          "data": {
            "text/plain": [
              "-1060799649222813.2"
            ]
          },
          "metadata": {},
          "execution_count": 6
        }
      ]
    }
  ]
}